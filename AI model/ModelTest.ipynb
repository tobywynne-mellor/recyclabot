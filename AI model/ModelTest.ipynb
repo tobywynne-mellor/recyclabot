{
 "cells": [
  {
   "cell_type": "code",
   "execution_count": 1,
   "metadata": {},
   "outputs": [],
   "source": [
    "import time\n",
    "import json\n",
    "import copy\n",
    "import matplotlib.pyplot as plt\n",
    "import seaborn as sns\n",
    "import numpy as np\n",
    "from PIL import Image\n",
    "from collections import OrderedDict\n",
    "import torch\n",
    "from torch import nn, optim\n",
    "from torch.optim import lr_scheduler\n",
    "from torch.autograd import Variable\n",
    "from torchvision import datasets, models, transforms"
   ]
  },
  {
   "cell_type": "code",
   "execution_count": 2,
   "metadata": {},
   "outputs": [],
   "source": [
    "device = torch.device('cpu')"
   ]
  },
  {
   "cell_type": "code",
   "execution_count": 36,
   "metadata": {},
   "outputs": [],
   "source": [
    "model = models.vgg19()"
   ]
  },
  {
   "cell_type": "code",
   "execution_count": 38,
   "metadata": {},
   "outputs": [],
   "source": [
    "classifier = nn.Sequential(OrderedDict([\n",
    "                          ('fc1', nn.Linear(25088, 4096)),\n",
    "                          ('relu', nn.ReLU()),\n",
    "                          ('fc2', nn.Linear(4096, 102)),\n",
    "                          ('output', nn.LogSoftmax(dim=1))\n",
    "                          ]))"
   ]
  },
  {
   "cell_type": "code",
   "execution_count": 39,
   "metadata": {},
   "outputs": [],
   "source": [
    "model.classifier = classifier"
   ]
  },
  {
   "cell_type": "code",
   "execution_count": 40,
   "metadata": {},
   "outputs": [
    {
     "data": {
      "text/plain": [
       "<All keys matched successfully>"
      ]
     },
     "execution_count": 40,
     "metadata": {},
     "output_type": "execute_result"
    }
   ],
   "source": [
    "model.load_state_dict(torch.load('/Users/morgan2448/Downloads/themodel.pth', map_location=device))"
   ]
  },
  {
   "cell_type": "code",
   "execution_count": 41,
   "metadata": {},
   "outputs": [],
   "source": [
    "data_transforms = {\n",
    "    'validset': transforms.Compose([\n",
    "        transforms.Resize(256),\n",
    "        transforms.CenterCrop(224),\n",
    "        transforms.ToTensor(),\n",
    "        transforms.Normalize([0.485, 0.456, 0.406], \n",
    "                             [0.229, 0.224, 0.225])\n",
    "    ]),\n",
    "}"
   ]
  },
  {
   "cell_type": "code",
   "execution_count": 46,
   "metadata": {},
   "outputs": [],
   "source": [
    "def calc_accuracy(model, dataloaders, data, cuda=False):\n",
    "    model.eval()\n",
    "    material = []\n",
    "    with torch.no_grad():\n",
    "        for idx, (inputs, labels) in enumerate(dataloaders[data]):\n",
    "            if cuda:\n",
    "                inputs, labels = inputs, labels\n",
    "            # obtain the outputs from the model\n",
    "            outputs = model.forward(inputs)\n",
    "            # max provides the (maximum probability, max value)\n",
    "            _, predicted = outputs.max(dim=1)\n",
    "            material.append(predicted)\n",
    "            # check the \n",
    "            if idx == 0:\n",
    "                print(predicted) #the predicted class\n",
    "                print(torch.exp(_)) # the predicted probability\n",
    "            equals = predicted == labels.data\n",
    "            if idx == 0:\n",
    "                print(equals)\n",
    "            print(equals.float().mean())\n",
    "    return material"
   ]
  },
  {
   "cell_type": "code",
   "execution_count": 47,
   "metadata": {},
   "outputs": [],
   "source": [
    "def image_predictor(path,ground_truth=0):\n",
    "    image = Image.open(path)\n",
    "    imagetensor = data_transforms['validset'](image)\n",
    "    dataset_single = torch.utils.data.TensorDataset(imagetensor[None], torch.tensor([ground_truth]))\n",
    "    dataloader_valid_single = torch.utils.data.DataLoader(dataset_single, batch_size=1, shuffle = False)\n",
    "    dataloader = {\n",
    "        'train' : dataloader_valid_single,\n",
    "        'valid' : dataloader_valid_single\n",
    "    }\n",
    "    value2 = calc_accuracy(model,dataloader,'valid',True)[0].item()\n",
    "    return SingleNumToMaterial(value2)"
   ]
  },
  {
   "cell_type": "code",
   "execution_count": 48,
   "metadata": {},
   "outputs": [],
   "source": [
    "def SingleNumToMaterial(value):\n",
    "    if torch.tensor(value).item() == 0:\n",
    "        return('cardboard')\n",
    "    elif torch.tensor(value).item() == 1:\n",
    "        return('glass')\n",
    "    elif torch.tensor(value).item() == 2:\n",
    "        return('metal')\n",
    "    elif torch.tensor(value).item() == 3:\n",
    "        return('paper')\n",
    "    elif torch.tensor(value).item() == 4:\n",
    "        return('plastic')"
   ]
  },
  {
   "cell_type": "code",
   "execution_count": 56,
   "metadata": {},
   "outputs": [
    {
     "name": "stdout",
     "output_type": "stream",
     "text": [
      "tensor([1])\n",
      "tensor([0.7995])\n",
      "tensor([False])\n",
      "tensor(0.)\n"
     ]
    },
    {
     "data": {
      "text/plain": [
       "'glass'"
      ]
     },
     "execution_count": 56,
     "metadata": {},
     "output_type": "execute_result"
    }
   ],
   "source": [
    "image_predictor('/Users/morgan2448/Downloads/phonecloseup.jpg')"
   ]
  },
  {
   "cell_type": "code",
   "execution_count": 52,
   "metadata": {},
   "outputs": [
    {
     "data": {
      "text/plain": [
       "'glass'"
      ]
     },
     "execution_count": 52,
     "metadata": {},
     "output_type": "execute_result"
    }
   ],
   "source": [
    "aa"
   ]
  },
  {
   "cell_type": "code",
   "execution_count": null,
   "metadata": {},
   "outputs": [],
   "source": []
  }
 ],
 "metadata": {
  "kernelspec": {
   "display_name": "Python 3",
   "language": "python",
   "name": "python3"
  },
  "language_info": {
   "codemirror_mode": {
    "name": "ipython",
    "version": 3
   },
   "file_extension": ".py",
   "mimetype": "text/x-python",
   "name": "python",
   "nbconvert_exporter": "python",
   "pygments_lexer": "ipython3",
   "version": "3.7.3"
  }
 },
 "nbformat": 4,
 "nbformat_minor": 2
}
