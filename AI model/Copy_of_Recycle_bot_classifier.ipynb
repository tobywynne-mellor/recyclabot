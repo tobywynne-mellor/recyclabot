{
  "nbformat": 4,
  "nbformat_minor": 0,
  "metadata": {
    "colab": {
      "name": "Copy of Recycle-bot classifier.ipynb",
      "provenance": [],
      "collapsed_sections": []
    },
    "kernelspec": {
      "name": "python3",
      "display_name": "Python 3"
    },
    "accelerator": "GPU"
  },
  "cells": [
    {
      "cell_type": "code",
      "metadata": {
        "id": "gS5rWu1ShcaA",
        "colab_type": "code",
        "colab": {}
      },
      "source": [
        "import torch\n",
        "from torch.optim import lr_scheduler\n",
        "from torch.autograd import Variable\n",
        "from torchvision import datasets, models, transforms\n",
        "from torch import nn, optim\n",
        "import torchvision\n",
        "import torch.utils.data\n",
        "from torch.utils.data import Dataset, DataLoader, random_split\n",
        "import torchvision.transforms as transforms\n",
        "import torch.nn as nn\n",
        "import torch.nn.functional as F\n",
        "import matplotlib.pyplot as plt\n",
        "import helper\n",
        "import time\n",
        "import copy\n",
        "import seaborn as sns\n",
        "import numpy as np\n",
        "from PIL import Image\n",
        "from collections import OrderedDict"
      ],
      "execution_count": 0,
      "outputs": []
    },
    {
      "cell_type": "markdown",
      "metadata": {
        "id": "44EH6Kt-afjQ",
        "colab_type": "text"
      },
      "source": [
        "Preprocessing data"
      ]
    },
    {
      "cell_type": "code",
      "metadata": {
        "id": "_GDT6n88x2xS",
        "colab_type": "code",
        "outputId": "0d343643-4210-4288-c48f-434995e73f0f",
        "colab": {
          "base_uri": "https://localhost:8080/",
          "height": 138
        }
      },
      "source": [
        "!git clone https://github.com/tobywynne-mellor/recycle-bot"
      ],
      "execution_count": 2,
      "outputs": [
        {
          "output_type": "stream",
          "text": [
            "Cloning into 'recycle-bot'...\n",
            "remote: Enumerating objects: 2595, done.\u001b[K\n",
            "remote: Counting objects: 100% (2595/2595), done.\u001b[K\n",
            "remote: Compressing objects: 100% (2574/2574), done.\u001b[K\n",
            "remote: Total 2595 (delta 33), reused 2571 (delta 18), pack-reused 0\u001b[K\n",
            "Receiving objects: 100% (2595/2595), 40.45 MiB | 21.60 MiB/s, done.\n",
            "Resolving deltas: 100% (33/33), done.\n"
          ],
          "name": "stdout"
        }
      ]
    },
    {
      "cell_type": "code",
      "metadata": {
        "id": "s0KZMWQiihw9",
        "colab_type": "code",
        "colab": {}
      },
      "source": [
        "data_transforms = {\n",
        "    'validset': transforms.Compose([\n",
        "        transforms.Resize(256),\n",
        "        transforms.CenterCrop(224),\n",
        "        transforms.ToTensor(),\n",
        "        transforms.Normalize([0.485, 0.456, 0.406], \n",
        "                             [0.229, 0.224, 0.225])\n",
        "    ]),\n",
        "}"
      ],
      "execution_count": 0,
      "outputs": []
    },
    {
      "cell_type": "code",
      "metadata": {
        "id": "i6H8yTUUaexg",
        "colab_type": "code",
        "colab": {}
      },
      "source": [
        "dataset = datasets.ImageFolder('/content/recycle-bot/Waste ',transform = data_transforms['validset'])\n"
      ],
      "execution_count": 0,
      "outputs": []
    },
    {
      "cell_type": "markdown",
      "metadata": {
        "id": "vBhKTwzmDL6w",
        "colab_type": "text"
      },
      "source": [
        "Dividing the dataset into test, validation, train sets\n"
      ]
    },
    {
      "cell_type": "code",
      "metadata": {
        "id": "0ON7bY_FBsS0",
        "colab_type": "code",
        "colab": {}
      },
      "source": [
        "trainset, validset = random_split(dataset, (int(len(dataset)*0.8), int(len(dataset)*0.2)))"
      ],
      "execution_count": 0,
      "outputs": []
    },
    {
      "cell_type": "code",
      "metadata": {
        "id": "g9Dfnj8RPSH6",
        "colab_type": "code",
        "colab": {}
      },
      "source": [
        "dataloader_train = torch.utils.data.DataLoader(trainset, batch_size=32, shuffle = True)\n",
        "dataloader_valid = torch.utils.data.DataLoader(validset, batch_size=32, shuffle = False)"
      ],
      "execution_count": 0,
      "outputs": []
    },
    {
      "cell_type": "code",
      "metadata": {
        "id": "VlehjUDfft4k",
        "colab_type": "code",
        "colab": {}
      },
      "source": [
        "dataloader = {\n",
        "    'train' : dataloader_train,\n",
        "    'valid' : dataloader_valid\n",
        "}"
      ],
      "execution_count": 0,
      "outputs": []
    },
    {
      "cell_type": "markdown",
      "metadata": {
        "id": "AmWslnXIjDXj",
        "colab_type": "text"
      },
      "source": [
        "Input a pretrained transfer learning model"
      ]
    },
    {
      "cell_type": "code",
      "metadata": {
        "id": "e_4Rb7LqTRQG",
        "colab_type": "code",
        "outputId": "c753d167-6d57-45e3-9dda-bba73fa68202",
        "colab": {
          "base_uri": "https://localhost:8080/",
          "height": 52
        }
      },
      "source": [
        "model = models.vgg19(pretrained=True)"
      ],
      "execution_count": 8,
      "outputs": [
        {
          "output_type": "stream",
          "text": [
            "Downloading: \"https://download.pytorch.org/models/vgg19-dcbb9e9d.pth\" to /root/.cache/torch/checkpoints/vgg19-dcbb9e9d.pth\n",
            "100%|██████████| 548M/548M [00:15<00:00, 36.4MB/s]\n"
          ],
          "name": "stderr"
        }
      ]
    },
    {
      "cell_type": "code",
      "metadata": {
        "id": "y1JCDztsVtR0",
        "colab_type": "code",
        "colab": {}
      },
      "source": [
        "classifier = nn.Sequential(OrderedDict([\n",
        "                          ('fc1', nn.Linear(25088, 4096)),\n",
        "                          ('relu', nn.ReLU()),\n",
        "                          ('fc2', nn.Linear(4096, 102)),\n",
        "                          ('output', nn.LogSoftmax(dim=1))\n",
        "                          ]))"
      ],
      "execution_count": 0,
      "outputs": []
    },
    {
      "cell_type": "code",
      "metadata": {
        "id": "nAUwimtHVyac",
        "colab_type": "code",
        "colab": {}
      },
      "source": [
        "for param in model.parameters():\n",
        "    param.requires_grad = False"
      ],
      "execution_count": 0,
      "outputs": []
    },
    {
      "cell_type": "code",
      "metadata": {
        "id": "o031-Vf1V0-8",
        "colab_type": "code",
        "colab": {}
      },
      "source": [
        "model.classifier = classifier"
      ],
      "execution_count": 0,
      "outputs": []
    },
    {
      "cell_type": "code",
      "metadata": {
        "id": "Mf7ytQ_1V3VA",
        "colab_type": "code",
        "outputId": "d0419444-9362-465e-86a9-ca19cdb50468",
        "colab": {
          "base_uri": "https://localhost:8080/",
          "height": 121
        }
      },
      "source": [
        "model.classifier"
      ],
      "execution_count": 12,
      "outputs": [
        {
          "output_type": "execute_result",
          "data": {
            "text/plain": [
              "Sequential(\n",
              "  (fc1): Linear(in_features=25088, out_features=4096, bias=True)\n",
              "  (relu): ReLU()\n",
              "  (fc2): Linear(in_features=4096, out_features=102, bias=True)\n",
              "  (output): LogSoftmax()\n",
              ")"
            ]
          },
          "metadata": {
            "tags": []
          },
          "execution_count": 12
        }
      ]
    },
    {
      "cell_type": "markdown",
      "metadata": {
        "id": "PP5HYWDOjNb8",
        "colab_type": "text"
      },
      "source": [
        "Train the model"
      ]
    },
    {
      "cell_type": "code",
      "metadata": {
        "id": "7ptF7A0JV5qJ",
        "colab_type": "code",
        "colab": {}
      },
      "source": [
        "def train_model(model, dataloaders, criteria, optimizer, scheduler,    \n",
        "                                      num_epochs=25, device='cuda'):\n",
        "    since = time.time()\n",
        "\n",
        "    best_model_wts = copy.deepcopy(model.state_dict())\n",
        "    best_acc = 0.0\n",
        "\n",
        "    for epoch in range(num_epochs):\n",
        "        print('Epoch {}/{}'.format(epoch, num_epochs - 1))\n",
        "        print('-' * 10)\n",
        "\n",
        "        # Each epoch has a training and validation phase\n",
        "        for phase in ['train', 'valid']:\n",
        "            if phase == 'train':\n",
        "                scheduler.step()\n",
        "                model.train()  # Set model to training mode\n",
        "            else:\n",
        "                model.eval()   # Set model to evaluate mode\n",
        "\n",
        "            running_loss = 0.0\n",
        "            running_corrects = 0\n",
        "\n",
        "            # Iterate over data.\n",
        "            for inputs, labels in dataloaders[phase]:\n",
        "                inputs = inputs.to(device)\n",
        "                labels = labels.to(device)\n",
        "\n",
        "                # zero the parameter gradients\n",
        "                optimizer.zero_grad()\n",
        "\n",
        "                # forward\n",
        "                # track history if only in train\n",
        "                with torch.set_grad_enabled(phase == 'train'):\n",
        "                    outputs = model(inputs)\n",
        "                    _, preds = torch.max(outputs, 1)\n",
        "                    loss = criteria(outputs, labels)\n",
        "\n",
        "                    # backward + optimize only if in training phase\n",
        "                    if phase == 'train':\n",
        "                        loss.backward()\n",
        "                        optimizer.step()\n",
        "\n",
        "                # statistics\n",
        "                running_loss += loss.item() * inputs.size(0)\n",
        "                running_corrects += torch.sum(preds == labels.data)\n",
        "\n",
        "            epoch_loss = running_loss / len(dataloaders[phase].dataset)\n",
        "            epoch_acc = running_corrects.double() / len(dataloaders[phase].dataset)\n",
        "\n",
        "            print('{} Loss: {:.4f} Acc: {:.4f}'.format(\n",
        "                phase, epoch_loss, epoch_acc))\n",
        "\n",
        "            # deep copy the model\n",
        "            if phase == 'valid' and epoch_acc > best_acc:\n",
        "                best_acc = epoch_acc\n",
        "                best_model_wts = copy.deepcopy(model.state_dict())\n",
        "\n",
        "        print()\n",
        "\n",
        "    time_elapsed = time.time() - since\n",
        "    print('Training complete in {:.0f}m {:.0f}s'.format(\n",
        "        time_elapsed // 60, time_elapsed % 60))\n",
        "    print('Best val Acc: {:4f}'.format(best_acc))\n",
        "\n",
        "    # load best model weights\n",
        "    model.load_state_dict(best_model_wts)\n",
        "    return model"
      ],
      "execution_count": 0,
      "outputs": []
    },
    {
      "cell_type": "code",
      "metadata": {
        "id": "r37-BU8lXLZi",
        "colab_type": "code",
        "colab": {}
      },
      "source": [
        "criteria = nn.NLLLoss()\n",
        "optim = torch.optim.Adam(model.classifier.parameters(), lr=0.001)\n",
        "sched = torch.optim.lr_scheduler.StepLR(optim, step_size=4, gamma=0.1)\n",
        "eps=10"
      ],
      "execution_count": 0,
      "outputs": []
    },
    {
      "cell_type": "code",
      "metadata": {
        "id": "Zm5F2RnVg65k",
        "colab_type": "code",
        "outputId": "c31c2d99-066c-480a-a75e-ade36190e931",
        "colab": {
          "base_uri": "https://localhost:8080/",
          "height": 849
        }
      },
      "source": [
        "model.cuda()"
      ],
      "execution_count": 15,
      "outputs": [
        {
          "output_type": "execute_result",
          "data": {
            "text/plain": [
              "VGG(\n",
              "  (features): Sequential(\n",
              "    (0): Conv2d(3, 64, kernel_size=(3, 3), stride=(1, 1), padding=(1, 1))\n",
              "    (1): ReLU(inplace=True)\n",
              "    (2): Conv2d(64, 64, kernel_size=(3, 3), stride=(1, 1), padding=(1, 1))\n",
              "    (3): ReLU(inplace=True)\n",
              "    (4): MaxPool2d(kernel_size=2, stride=2, padding=0, dilation=1, ceil_mode=False)\n",
              "    (5): Conv2d(64, 128, kernel_size=(3, 3), stride=(1, 1), padding=(1, 1))\n",
              "    (6): ReLU(inplace=True)\n",
              "    (7): Conv2d(128, 128, kernel_size=(3, 3), stride=(1, 1), padding=(1, 1))\n",
              "    (8): ReLU(inplace=True)\n",
              "    (9): MaxPool2d(kernel_size=2, stride=2, padding=0, dilation=1, ceil_mode=False)\n",
              "    (10): Conv2d(128, 256, kernel_size=(3, 3), stride=(1, 1), padding=(1, 1))\n",
              "    (11): ReLU(inplace=True)\n",
              "    (12): Conv2d(256, 256, kernel_size=(3, 3), stride=(1, 1), padding=(1, 1))\n",
              "    (13): ReLU(inplace=True)\n",
              "    (14): Conv2d(256, 256, kernel_size=(3, 3), stride=(1, 1), padding=(1, 1))\n",
              "    (15): ReLU(inplace=True)\n",
              "    (16): Conv2d(256, 256, kernel_size=(3, 3), stride=(1, 1), padding=(1, 1))\n",
              "    (17): ReLU(inplace=True)\n",
              "    (18): MaxPool2d(kernel_size=2, stride=2, padding=0, dilation=1, ceil_mode=False)\n",
              "    (19): Conv2d(256, 512, kernel_size=(3, 3), stride=(1, 1), padding=(1, 1))\n",
              "    (20): ReLU(inplace=True)\n",
              "    (21): Conv2d(512, 512, kernel_size=(3, 3), stride=(1, 1), padding=(1, 1))\n",
              "    (22): ReLU(inplace=True)\n",
              "    (23): Conv2d(512, 512, kernel_size=(3, 3), stride=(1, 1), padding=(1, 1))\n",
              "    (24): ReLU(inplace=True)\n",
              "    (25): Conv2d(512, 512, kernel_size=(3, 3), stride=(1, 1), padding=(1, 1))\n",
              "    (26): ReLU(inplace=True)\n",
              "    (27): MaxPool2d(kernel_size=2, stride=2, padding=0, dilation=1, ceil_mode=False)\n",
              "    (28): Conv2d(512, 512, kernel_size=(3, 3), stride=(1, 1), padding=(1, 1))\n",
              "    (29): ReLU(inplace=True)\n",
              "    (30): Conv2d(512, 512, kernel_size=(3, 3), stride=(1, 1), padding=(1, 1))\n",
              "    (31): ReLU(inplace=True)\n",
              "    (32): Conv2d(512, 512, kernel_size=(3, 3), stride=(1, 1), padding=(1, 1))\n",
              "    (33): ReLU(inplace=True)\n",
              "    (34): Conv2d(512, 512, kernel_size=(3, 3), stride=(1, 1), padding=(1, 1))\n",
              "    (35): ReLU(inplace=True)\n",
              "    (36): MaxPool2d(kernel_size=2, stride=2, padding=0, dilation=1, ceil_mode=False)\n",
              "  )\n",
              "  (avgpool): AdaptiveAvgPool2d(output_size=(7, 7))\n",
              "  (classifier): Sequential(\n",
              "    (fc1): Linear(in_features=25088, out_features=4096, bias=True)\n",
              "    (relu): ReLU()\n",
              "    (fc2): Linear(in_features=4096, out_features=102, bias=True)\n",
              "    (output): LogSoftmax()\n",
              "  )\n",
              ")"
            ]
          },
          "metadata": {
            "tags": []
          },
          "execution_count": 15
        }
      ]
    },
    {
      "cell_type": "markdown",
      "metadata": {
        "id": "gYuAUb4cjZPn",
        "colab_type": "text"
      },
      "source": [
        "Display model accuracy"
      ]
    },
    {
      "cell_type": "code",
      "metadata": {
        "id": "k1jwOQYPak4q",
        "colab_type": "code",
        "outputId": "da158fc7-53ed-42c1-b177-a354634279b9",
        "colab": {
          "base_uri": "https://localhost:8080/",
          "height": 1000
        }
      },
      "source": [
        "train_model(model,dataloader,criteria,optim,sched,eps)"
      ],
      "execution_count": 16,
      "outputs": [
        {
          "output_type": "stream",
          "text": [
            "Epoch 0/9\n",
            "----------\n"
          ],
          "name": "stdout"
        },
        {
          "output_type": "stream",
          "text": [
            "/usr/local/lib/python3.6/dist-packages/torch/optim/lr_scheduler.py:100: UserWarning: Detected call of `lr_scheduler.step()` before `optimizer.step()`. In PyTorch 1.1.0 and later, you should call them in the opposite order: `optimizer.step()` before `lr_scheduler.step()`.  Failure to do this will result in PyTorch skipping the first value of the learning rate schedule.See more details at https://pytorch.org/docs/stable/optim.html#how-to-adjust-learning-rate\n",
            "  \"https://pytorch.org/docs/stable/optim.html#how-to-adjust-learning-rate\", UserWarning)\n"
          ],
          "name": "stderr"
        },
        {
          "output_type": "stream",
          "text": [
            "train Loss: 2.2552 Acc: 0.6930\n",
            "valid Loss: 0.5237 Acc: 0.8117\n",
            "\n",
            "Epoch 1/9\n",
            "----------\n",
            "train Loss: 0.1327 Acc: 0.9498\n",
            "valid Loss: 0.6690 Acc: 0.8201\n",
            "\n",
            "Epoch 2/9\n",
            "----------\n",
            "train Loss: 0.0278 Acc: 0.9937\n",
            "valid Loss: 0.6795 Acc: 0.8431\n",
            "\n",
            "Epoch 3/9\n",
            "----------\n",
            "train Loss: 0.0063 Acc: 0.9995\n",
            "valid Loss: 0.6358 Acc: 0.8494\n",
            "\n",
            "Epoch 4/9\n",
            "----------\n",
            "train Loss: 0.0035 Acc: 0.9995\n",
            "valid Loss: 0.6353 Acc: 0.8556\n",
            "\n",
            "Epoch 5/9\n",
            "----------\n",
            "train Loss: 0.0031 Acc: 0.9995\n",
            "valid Loss: 0.6243 Acc: 0.8536\n",
            "\n",
            "Epoch 6/9\n",
            "----------\n",
            "train Loss: 0.0030 Acc: 0.9995\n",
            "valid Loss: 0.6369 Acc: 0.8556\n",
            "\n",
            "Epoch 7/9\n",
            "----------\n",
            "train Loss: 0.0026 Acc: 0.9995\n",
            "valid Loss: 0.6360 Acc: 0.8556\n",
            "\n",
            "Epoch 8/9\n",
            "----------\n",
            "train Loss: 0.0025 Acc: 0.9995\n",
            "valid Loss: 0.6335 Acc: 0.8556\n",
            "\n",
            "Epoch 9/9\n",
            "----------\n",
            "train Loss: 0.0024 Acc: 0.9995\n",
            "valid Loss: 0.6323 Acc: 0.8536\n",
            "\n",
            "Training complete in 7m 2s\n",
            "Best val Acc: 0.855649\n"
          ],
          "name": "stdout"
        },
        {
          "output_type": "execute_result",
          "data": {
            "text/plain": [
              "VGG(\n",
              "  (features): Sequential(\n",
              "    (0): Conv2d(3, 64, kernel_size=(3, 3), stride=(1, 1), padding=(1, 1))\n",
              "    (1): ReLU(inplace=True)\n",
              "    (2): Conv2d(64, 64, kernel_size=(3, 3), stride=(1, 1), padding=(1, 1))\n",
              "    (3): ReLU(inplace=True)\n",
              "    (4): MaxPool2d(kernel_size=2, stride=2, padding=0, dilation=1, ceil_mode=False)\n",
              "    (5): Conv2d(64, 128, kernel_size=(3, 3), stride=(1, 1), padding=(1, 1))\n",
              "    (6): ReLU(inplace=True)\n",
              "    (7): Conv2d(128, 128, kernel_size=(3, 3), stride=(1, 1), padding=(1, 1))\n",
              "    (8): ReLU(inplace=True)\n",
              "    (9): MaxPool2d(kernel_size=2, stride=2, padding=0, dilation=1, ceil_mode=False)\n",
              "    (10): Conv2d(128, 256, kernel_size=(3, 3), stride=(1, 1), padding=(1, 1))\n",
              "    (11): ReLU(inplace=True)\n",
              "    (12): Conv2d(256, 256, kernel_size=(3, 3), stride=(1, 1), padding=(1, 1))\n",
              "    (13): ReLU(inplace=True)\n",
              "    (14): Conv2d(256, 256, kernel_size=(3, 3), stride=(1, 1), padding=(1, 1))\n",
              "    (15): ReLU(inplace=True)\n",
              "    (16): Conv2d(256, 256, kernel_size=(3, 3), stride=(1, 1), padding=(1, 1))\n",
              "    (17): ReLU(inplace=True)\n",
              "    (18): MaxPool2d(kernel_size=2, stride=2, padding=0, dilation=1, ceil_mode=False)\n",
              "    (19): Conv2d(256, 512, kernel_size=(3, 3), stride=(1, 1), padding=(1, 1))\n",
              "    (20): ReLU(inplace=True)\n",
              "    (21): Conv2d(512, 512, kernel_size=(3, 3), stride=(1, 1), padding=(1, 1))\n",
              "    (22): ReLU(inplace=True)\n",
              "    (23): Conv2d(512, 512, kernel_size=(3, 3), stride=(1, 1), padding=(1, 1))\n",
              "    (24): ReLU(inplace=True)\n",
              "    (25): Conv2d(512, 512, kernel_size=(3, 3), stride=(1, 1), padding=(1, 1))\n",
              "    (26): ReLU(inplace=True)\n",
              "    (27): MaxPool2d(kernel_size=2, stride=2, padding=0, dilation=1, ceil_mode=False)\n",
              "    (28): Conv2d(512, 512, kernel_size=(3, 3), stride=(1, 1), padding=(1, 1))\n",
              "    (29): ReLU(inplace=True)\n",
              "    (30): Conv2d(512, 512, kernel_size=(3, 3), stride=(1, 1), padding=(1, 1))\n",
              "    (31): ReLU(inplace=True)\n",
              "    (32): Conv2d(512, 512, kernel_size=(3, 3), stride=(1, 1), padding=(1, 1))\n",
              "    (33): ReLU(inplace=True)\n",
              "    (34): Conv2d(512, 512, kernel_size=(3, 3), stride=(1, 1), padding=(1, 1))\n",
              "    (35): ReLU(inplace=True)\n",
              "    (36): MaxPool2d(kernel_size=2, stride=2, padding=0, dilation=1, ceil_mode=False)\n",
              "  )\n",
              "  (avgpool): AdaptiveAvgPool2d(output_size=(7, 7))\n",
              "  (classifier): Sequential(\n",
              "    (fc1): Linear(in_features=25088, out_features=4096, bias=True)\n",
              "    (relu): ReLU()\n",
              "    (fc2): Linear(in_features=4096, out_features=102, bias=True)\n",
              "    (output): LogSoftmax()\n",
              "  )\n",
              ")"
            ]
          },
          "metadata": {
            "tags": []
          },
          "execution_count": 16
        }
      ]
    },
    {
      "cell_type": "markdown",
      "metadata": {
        "id": "Tc0_gabTlUuc",
        "colab_type": "text"
      },
      "source": [
        "Input validation set and check models performance"
      ]
    },
    {
      "cell_type": "code",
      "metadata": {
        "id": "r3xGheb9lDBd",
        "colab_type": "code",
        "colab": {}
      },
      "source": [
        "def calc_accuracy(model, dataloaders, data, cuda=False):\n",
        "    model.eval()\n",
        "    model.to(device='cuda')    \n",
        "    material = []\n",
        "    with torch.no_grad():\n",
        "        for idx, (inputs, labels) in enumerate(dataloaders[data]):\n",
        "            if cuda:\n",
        "                inputs, labels = inputs.cuda(), labels.cuda()\n",
        "            # obtain the outputs from the model\n",
        "            outputs = model.forward(inputs)\n",
        "            # max provides the (maximum probability, max value)\n",
        "            _, predicted = outputs.max(dim=1)\n",
        "            material.append(predicted)\n",
        "            # check the \n",
        "            if idx == 0:\n",
        "                print(predicted) #the predicted class\n",
        "                print(torch.exp(_)) # the predicted probability\n",
        "            equals = predicted == labels.data\n",
        "            if idx == 0:\n",
        "                print(equals)\n",
        "            print(equals.float().mean())\n",
        "    return material"
      ],
      "execution_count": 0,
      "outputs": []
    },
    {
      "cell_type": "code",
      "metadata": {
        "id": "JUlfrpxb9OEr",
        "colab_type": "code",
        "outputId": "d715d483-4720-4938-9cfa-5bee63577c8b",
        "colab": {
          "base_uri": "https://localhost:8080/",
          "height": 450
        }
      },
      "source": [
        "first_batch = calc_accuracy(model, dataloader, 'valid', True)[0]"
      ],
      "execution_count": 18,
      "outputs": [
        {
          "output_type": "stream",
          "text": [
            "tensor([3, 1, 2, 4, 2, 2, 2, 3, 0, 3, 0, 2, 4, 3, 0, 0, 4, 4, 0, 3, 3, 3, 4, 3,\n",
            "        2, 4, 3, 1, 3, 1, 3, 0], device='cuda:0')\n",
            "tensor([1.0000, 0.9205, 0.9996, 0.9999, 1.0000, 0.9882, 1.0000, 1.0000, 1.0000,\n",
            "        1.0000, 0.9998, 0.9951, 0.9680, 0.9804, 0.9476, 1.0000, 0.9970, 0.7002,\n",
            "        1.0000, 0.9820, 0.9998, 1.0000, 0.3549, 1.0000, 1.0000, 0.9878, 0.6741,\n",
            "        0.9824, 0.9999, 0.9607, 0.9631, 1.0000], device='cuda:0')\n",
            "tensor([ True,  True,  True,  True,  True,  True, False,  True,  True,  True,\n",
            "         True,  True, False,  True,  True,  True,  True,  True,  True,  True,\n",
            "         True,  True,  True,  True,  True,  True,  True,  True,  True,  True,\n",
            "         True,  True], device='cuda:0')\n",
            "tensor(0.9375, device='cuda:0')\n",
            "tensor(0.8438, device='cuda:0')\n",
            "tensor(0.8750, device='cuda:0')\n",
            "tensor(0.8125, device='cuda:0')\n",
            "tensor(0.8750, device='cuda:0')\n",
            "tensor(0.8750, device='cuda:0')\n",
            "tensor(0.8125, device='cuda:0')\n",
            "tensor(0.8125, device='cuda:0')\n",
            "tensor(0.8125, device='cuda:0')\n",
            "tensor(0.8438, device='cuda:0')\n",
            "tensor(0.7188, device='cuda:0')\n",
            "tensor(0.9688, device='cuda:0')\n",
            "tensor(0.9375, device='cuda:0')\n",
            "tensor(0.8438, device='cuda:0')\n",
            "tensor(0.8667, device='cuda:0')\n"
          ],
          "name": "stdout"
        }
      ]
    },
    {
      "cell_type": "markdown",
      "metadata": {
        "id": "VHe0buC65zQF",
        "colab_type": "text"
      },
      "source": [
        "Convert material representation from numerical to text (For a batch)\n",
        "\n",
        "\n"
      ]
    },
    {
      "cell_type": "code",
      "metadata": {
        "id": "QloC3O5n54QQ",
        "colab_type": "code",
        "colab": {}
      },
      "source": [
        "def BatchNumToMaterial(inputted_data):\n",
        "  material2 = []\n",
        "  for i in range (0,len(first_batch)):\n",
        "    if inputted_data[i].item() == 0:\n",
        "      material2.append('cardboard')\n",
        "    elif inputted_data[i].item() == 1:\n",
        "      material2.append('glass')\n",
        "    elif inputted_data[i].item() == 2:\n",
        "      material2.append('metal')\n",
        "    elif inputted_data[i].item() == 3:\n",
        "      material2.append('paper')\n",
        "    elif inputted_data[i].item() == 4:\n",
        "      material2.append('plastic')\n",
        "  return material2\n"
      ],
      "execution_count": 0,
      "outputs": []
    },
    {
      "cell_type": "code",
      "metadata": {
        "id": "2gxNs0B19bWz",
        "colab_type": "code",
        "outputId": "effaee23-ca20-46ee-df0e-549b4545d8b9",
        "colab": {
          "base_uri": "https://localhost:8080/",
          "height": 572
        }
      },
      "source": [
        "BatchNumToMaterial(first_batch)"
      ],
      "execution_count": 20,
      "outputs": [
        {
          "output_type": "execute_result",
          "data": {
            "text/plain": [
              "['paper',\n",
              " 'glass',\n",
              " 'metal',\n",
              " 'plastic',\n",
              " 'metal',\n",
              " 'metal',\n",
              " 'metal',\n",
              " 'paper',\n",
              " 'cardboard',\n",
              " 'paper',\n",
              " 'cardboard',\n",
              " 'metal',\n",
              " 'plastic',\n",
              " 'paper',\n",
              " 'cardboard',\n",
              " 'cardboard',\n",
              " 'plastic',\n",
              " 'plastic',\n",
              " 'cardboard',\n",
              " 'paper',\n",
              " 'paper',\n",
              " 'paper',\n",
              " 'plastic',\n",
              " 'paper',\n",
              " 'metal',\n",
              " 'plastic',\n",
              " 'paper',\n",
              " 'glass',\n",
              " 'paper',\n",
              " 'glass',\n",
              " 'paper',\n",
              " 'cardboard']"
            ]
          },
          "metadata": {
            "tags": []
          },
          "execution_count": 20
        }
      ]
    },
    {
      "cell_type": "markdown",
      "metadata": {
        "id": "4hp9FMXg6HKd",
        "colab_type": "text"
      },
      "source": [
        "Convert material representation from numerical to text (For a single value)"
      ]
    },
    {
      "cell_type": "code",
      "metadata": {
        "id": "RzcKNL6FfSvu",
        "colab_type": "code",
        "colab": {}
      },
      "source": [
        "def SingleNumToMaterial(value):\n",
        "    if torch.tensor(value).item() == 0:\n",
        "      return('cardboard')\n",
        "    elif torch.tensor(value).item() == 1:\n",
        "      return('glass')\n",
        "    elif torch.tensor(value).item() == 2:\n",
        "      return('metal')\n",
        "    elif torch.tensor(value).item() == 3:\n",
        "      return('paper')\n",
        "    elif torch.tensor(value).item() == 4:\n",
        "      return('plastic')"
      ],
      "execution_count": 0,
      "outputs": []
    },
    {
      "cell_type": "markdown",
      "metadata": {
        "id": "gkUvlv-W6POj",
        "colab_type": "text"
      },
      "source": [
        "Input a path to image location (Ground truth isnt actually necessary so it has a default value where if not specified then the True/False output should be ignored) and get an text material output. "
      ]
    },
    {
      "cell_type": "code",
      "metadata": {
        "id": "timeIyNq0PUO",
        "colab_type": "code",
        "colab": {}
      },
      "source": [
        "def image_predictor(path,ground_truth=0):\n",
        "  image = Image.open(path)\n",
        "  imagetensor = data_transforms['validset'](image)\n",
        "  dataset_single = torch.utils.data.TensorDataset(imagetensor[None], torch.tensor([ground_truth]))\n",
        "  dataloader_valid_single = torch.utils.data.DataLoader(dataset_single, batch_size=1, shuffle = False)\n",
        "  dataloader = {\n",
        "    'train' : dataloader_valid_single,\n",
        "    'valid' : dataloader_valid_single\n",
        "  }\n",
        "  value2 = calc_accuracy(model,dataloader,'valid',True)[0].item()\n",
        "  return SingleNumToMaterial(value2)\n"
      ],
      "execution_count": 0,
      "outputs": []
    },
    {
      "cell_type": "markdown",
      "metadata": {
        "id": "0Xu_H-x86otp",
        "colab_type": "text"
      },
      "source": [
        "Image for each material"
      ]
    },
    {
      "cell_type": "code",
      "metadata": {
        "id": "jQLAP03z7CyX",
        "colab_type": "code",
        "outputId": "048941e5-49e7-462d-9538-234cadbbfb61",
        "colab": {
          "base_uri": "https://localhost:8080/",
          "height": 104
        }
      },
      "source": [
        "image_predictor('/content/plasticbottleempty.jpg')"
      ],
      "execution_count": 24,
      "outputs": [
        {
          "output_type": "stream",
          "text": [
            "tensor([4], device='cuda:0')\n",
            "tensor([0.6519], device='cuda:0')\n",
            "tensor([False], device='cuda:0')\n",
            "tensor(0., device='cuda:0')\n"
          ],
          "name": "stdout"
        },
        {
          "output_type": "execute_result",
          "data": {
            "text/plain": [
              "'plastic'"
            ]
          },
          "metadata": {
            "tags": []
          },
          "execution_count": 24
        }
      ]
    },
    {
      "cell_type": "code",
      "metadata": {
        "id": "TAEzGXaF0blN",
        "colab_type": "code",
        "outputId": "9ee384a4-dcbb-4dcc-8a45-8aaa1ac78686",
        "colab": {
          "base_uri": "https://localhost:8080/",
          "height": 104
        }
      },
      "source": [
        "image_predictor('/content/coffecup.jpg')"
      ],
      "execution_count": 25,
      "outputs": [
        {
          "output_type": "stream",
          "text": [
            "tensor([0], device='cuda:0')\n",
            "tensor([0.4226], device='cuda:0')\n",
            "tensor([True], device='cuda:0')\n",
            "tensor(1., device='cuda:0')\n"
          ],
          "name": "stdout"
        },
        {
          "output_type": "execute_result",
          "data": {
            "text/plain": [
              "'cardboard'"
            ]
          },
          "metadata": {
            "tags": []
          },
          "execution_count": 25
        }
      ]
    },
    {
      "cell_type": "code",
      "metadata": {
        "id": "gQWIEwV4036F",
        "colab_type": "code",
        "outputId": "d62b6274-3785-4022-9bfd-615b04be66a2",
        "colab": {
          "base_uri": "https://localhost:8080/",
          "height": 104
        }
      },
      "source": [
        "image_predictor('/content/metalcan.jpg')"
      ],
      "execution_count": 26,
      "outputs": [
        {
          "output_type": "stream",
          "text": [
            "tensor([2], device='cuda:0')\n",
            "tensor([0.9966], device='cuda:0')\n",
            "tensor([False], device='cuda:0')\n",
            "tensor(0., device='cuda:0')\n"
          ],
          "name": "stdout"
        },
        {
          "output_type": "execute_result",
          "data": {
            "text/plain": [
              "'metal'"
            ]
          },
          "metadata": {
            "tags": []
          },
          "execution_count": 26
        }
      ]
    },
    {
      "cell_type": "code",
      "metadata": {
        "id": "1NYG07Mh1ENO",
        "colab_type": "code",
        "outputId": "0956640f-db47-40e0-9258-95399b01b68f",
        "colab": {
          "base_uri": "https://localhost:8080/",
          "height": 104
        }
      },
      "source": [
        "image_predictor('/content/papertest.jpg')"
      ],
      "execution_count": 27,
      "outputs": [
        {
          "output_type": "stream",
          "text": [
            "tensor([3], device='cuda:0')\n",
            "tensor([0.9819], device='cuda:0')\n",
            "tensor([False], device='cuda:0')\n",
            "tensor(0., device='cuda:0')\n"
          ],
          "name": "stdout"
        },
        {
          "output_type": "execute_result",
          "data": {
            "text/plain": [
              "'paper'"
            ]
          },
          "metadata": {
            "tags": []
          },
          "execution_count": 27
        }
      ]
    },
    {
      "cell_type": "code",
      "metadata": {
        "id": "4vrAilb3H4BV",
        "colab_type": "code",
        "outputId": "17f57c34-a665-484b-a353-a31fd24bfa86",
        "colab": {
          "base_uri": "https://localhost:8080/",
          "height": 104
        }
      },
      "source": [
        "image_predictor('/content/glass.jpg')"
      ],
      "execution_count": 32,
      "outputs": [
        {
          "output_type": "stream",
          "text": [
            "tensor([1], device='cuda:0')\n",
            "tensor([1.], device='cuda:0')\n",
            "tensor([False], device='cuda:0')\n",
            "tensor(0., device='cuda:0')\n"
          ],
          "name": "stdout"
        },
        {
          "output_type": "execute_result",
          "data": {
            "text/plain": [
              "'glass'"
            ]
          },
          "metadata": {
            "tags": []
          },
          "execution_count": 32
        }
      ]
    },
    {
      "cell_type": "markdown",
      "metadata": {
        "id": "cNUsZlV26xxL",
        "colab_type": "text"
      },
      "source": [
        "Save model and use flask to link Frontend and Backend."
      ]
    },
    {
      "cell_type": "code",
      "metadata": {
        "id": "YFqd9T8FTJ-0",
        "colab_type": "code",
        "colab": {}
      },
      "source": [
        "torch.save(model.state_dict(), '/themodel.pth')"
      ],
      "execution_count": 0,
      "outputs": []
    },
    {
      "cell_type": "code",
      "metadata": {
        "id": "-d8gqJNKAgm3",
        "colab_type": "code",
        "colab": {}
      },
      "source": [
        ""
      ],
      "execution_count": 0,
      "outputs": []
    }
  ]
}